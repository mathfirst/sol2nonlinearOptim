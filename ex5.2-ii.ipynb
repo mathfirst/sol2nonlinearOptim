{
 "cells": [
  {
   "cell_type": "code",
   "execution_count": null,
   "id": "80b54750-fcf6-4c05-8be2-ad70d55a80bf",
   "metadata": {},
   "outputs": [],
   "source": []
  },
  {
   "cell_type": "markdown",
   "id": "bf81c62e-6cb8-4fa2-a941-de70c4994b58",
   "metadata": {},
   "source": [
    "Exercise 5.2-ii"
   ]
  },
  {
   "cell_type": "code",
   "execution_count": 6,
   "id": "0ea832fa-dfcc-482f-a2e9-ebd3217a19af",
   "metadata": {},
   "outputs": [
    {
     "name": "stdout",
     "output_type": "stream",
     "text": [
      "starting point: x1=-50.00, x2=7.00\n",
      "exiting 9004 9.986247038826511e-06\n",
      "x1=5.00, x2=4.00\n",
      "---------\n",
      "starting point: x1=20.00, x2=7.00\n",
      "exiting 7344 9.64712160222723e-06\n",
      "x1=11.41, x2=-0.90\n",
      "---------\n",
      "starting point: x1=20.00, x2=-18.00\n",
      "exiting 6950 9.969044426263824e-06\n",
      "x1=11.41, x2=-0.90\n",
      "---------\n",
      "starting point: x1=5.00, x2=-10.00\n",
      "exiting 8300 9.912971874551603e-06\n",
      "x1=5.00, x2=4.00\n",
      "---------\n"
     ]
    }
   ],
   "source": [
    "def f1(x1, x2):\n",
    "    return -13 + x1 + ((5-x2)*x2-2)*x2\n",
    "\n",
    "def f2(x1, x2):\n",
    "    return -29 + x1 + ((1+x2)*x2-14)*x2\n",
    "\n",
    "def f(x1, x2):\n",
    "    return f1(x1,x2)**2 + f2(x1,x2)**2\n",
    "\n",
    "def cal_grad(x1, x2):\n",
    "    f1_value = f1(x1, x2)\n",
    "    f2_value = f2(x1, x2)\n",
    "    g_x1 = 2 * (f1_value + f2_value) \n",
    "    g_x2 = 2 * (f1_value*(10*x2-3*x2**2-2) + f2_value*(3*x2**2+2*x2-14))\n",
    "    return g_x1, g_x2\n",
    "\n",
    "def backtracking(x1, x2, g_x1, g_x2, d1, d2, alpha, beta, s, D=None):\n",
    "    i, t = 0, s\n",
    "    while f(x1, x2) - f(x1 - t*d1, x2 - t*d2) < -alpha*t*(g_x1*d1+g_x2*d2):\n",
    "        t = s * beta**i  \n",
    "        i += 1\n",
    "    return t\n",
    "\n",
    "alpha = 0.5\n",
    "beta = 0.5\n",
    "s = 1.0\n",
    "max_iter = 10000\n",
    "D = None\n",
    "x1, x2 = -50, 7\n",
    "x = ((-50,7), (20,7), (20,-18), (5,-10))\n",
    "for x1, x2 in x:\n",
    "    print(f\"starting point: x1={x1:.2f}, x2={x2:.2f}\")\n",
    "    for iter in range(max_iter):\n",
    "        g_x1, g_x2 = cal_grad(x1, x2)\n",
    "        grad_norm = (g_x1**2 + g_x2**2)**0.5\n",
    "        if grad_norm <= 1e-5:\n",
    "            print(\"exiting\", iter, grad_norm)\n",
    "            break\n",
    "        elif iter == max_iter - 1:\n",
    "            print(\"reached maximum number of iterations\", iter, grad_norm)\n",
    "        if D is not None:\n",
    "            d = D @ grad\n",
    "        else:\n",
    "            d1, d2 = g_x1, g_x2\n",
    "        t = backtracking(x1, x2, g_x1, g_x2, d1, d2, alpha, beta, s, D=None)\n",
    "        x1 -= t * d1\n",
    "        x2 -= t * d2\n",
    "    print(f\"x1={x1:.2f}, x2={x2:.2f}\\n---------\")"
   ]
  },
  {
   "cell_type": "code",
   "execution_count": null,
   "id": "cf8237b7-5b37-4fd7-9efb-16afcb3453d6",
   "metadata": {},
   "outputs": [],
   "source": []
  }
 ],
 "metadata": {
  "kernelspec": {
   "display_name": "Python 3 (ipykernel)",
   "language": "python",
   "name": "python3"
  },
  "language_info": {
   "codemirror_mode": {
    "name": "ipython",
    "version": 3
   },
   "file_extension": ".py",
   "mimetype": "text/x-python",
   "name": "python",
   "nbconvert_exporter": "python",
   "pygments_lexer": "ipython3",
   "version": "3.10.6"
  }
 },
 "nbformat": 4,
 "nbformat_minor": 5
}
