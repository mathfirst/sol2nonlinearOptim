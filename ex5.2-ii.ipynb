{
 "cells": [
  {
   "cell_type": "markdown",
   "id": "bf81c62e-6cb8-4fa2-a941-de70c4994b58",
   "metadata": {},
   "source": [
    "Exercise 5.2-ii"
   ]
  },
  {
   "cell_type": "markdown",
   "id": "83aee7ef-89d2-4c85-8443-961f4772131b",
   "metadata": {},
   "source": [
    "1. the gradient method with backtracking and parameters $(s,\\alpha,\\beta)=(1,0.5,0.5)$."
   ]
  },
  {
   "cell_type": "code",
   "execution_count": 9,
   "id": "0ea832fa-dfcc-482f-a2e9-ebd3217a19af",
   "metadata": {},
   "outputs": [
    {
     "name": "stdout",
     "output_type": "stream",
     "text": [
      "starting point: x1=-50.00, x2=7.00\n",
      "exiting 9004 9.986247038826511e-06\n",
      "x1=5.00, x2=4.00\n",
      "---------\n",
      "starting point: x1=20.00, x2=7.00\n",
      "exiting 7344 9.64712160222723e-06\n",
      "x1=11.41, x2=-0.90\n",
      "---------\n",
      "starting point: x1=20.00, x2=-18.00\n",
      "exiting 6950 9.969044426263824e-06\n",
      "x1=11.41, x2=-0.90\n",
      "---------\n",
      "starting point: x1=5.00, x2=-10.00\n",
      "exiting 8300 9.912971874551603e-06\n",
      "x1=5.00, x2=4.00\n",
      "---------\n"
     ]
    }
   ],
   "source": [
    "def f1(x1, x2):\n",
    "    return -13 + x1 + ((5-x2)*x2-2)*x2\n",
    "\n",
    "def f2(x1, x2):\n",
    "    return -29 + x1 + ((1+x2)*x2-14)*x2\n",
    "\n",
    "def f(x1, x2):\n",
    "    return f1(x1,x2)**2 + f2(x1,x2)**2\n",
    "\n",
    "def cal_grad(x1, x2):\n",
    "    f1_value = f1(x1, x2)\n",
    "    f2_value = f2(x1, x2)\n",
    "    g_x1 = 2 * (f1_value + f2_value) \n",
    "    g_x2 = 2 * (f1_value*(10*x2-3*x2**2-2) + f2_value*(3*x2**2+2*x2-14))\n",
    "    return g_x1, g_x2\n",
    "\n",
    "def backtracking(x1, x2, g_x1, g_x2, d1, d2, alpha, beta, s):\n",
    "    i, t = 0, s\n",
    "    while f(x1, x2) - f(x1 - t*d1, x2 - t*d2) < -alpha*t*(g_x1*d1+g_x2*d2):\n",
    "        t = s * beta**i  \n",
    "        i += 1\n",
    "    return t\n",
    "\n",
    "alpha = 0.5\n",
    "beta = 0.5\n",
    "s = 1.0\n",
    "max_iter = 10000\n",
    "x1, x2 = -50, 7\n",
    "x = ((-50,7), (20,7), (20,-18), (5,-10))\n",
    "for x1, x2 in x:\n",
    "    print(f\"starting point: x1={x1:.2f}, x2={x2:.2f}\")\n",
    "    for iter in range(max_iter):\n",
    "        g_x1, g_x2 = cal_grad(x1, x2)\n",
    "        grad_norm = (g_x1**2 + g_x2**2)**0.5\n",
    "        if grad_norm <= 1e-5:\n",
    "            print(\"exiting\", iter, grad_norm)\n",
    "            break\n",
    "        elif iter == max_iter - 1:\n",
    "            print(\"reached maximum number of iterations\", iter, grad_norm)\n",
    "        d1, d2 = g_x1, g_x2\n",
    "        t = backtracking(x1, x2, g_x1, g_x2, d1, d2, alpha, beta, s)\n",
    "        x1 -= t * d1\n",
    "        x2 -= t * d2\n",
    "    print(f\"x1={x1:.2f}, x2={x2:.2f}\\n---------\")"
   ]
  },
  {
   "cell_type": "code",
   "execution_count": 24,
   "id": "ac5a3004-9e9f-4c7c-b809-eaa4c1a052c3",
   "metadata": {},
   "outputs": [
    {
     "name": "stdout",
     "output_type": "stream",
     "text": [
      "starting point: x1=-50.00, x2=7.00\n",
      "exiting 8 [4.39993571e-09]\n",
      "x1=5.00, x2=4.00\n",
      "---------\n",
      "starting point: x1=20.00, x2=7.00\n",
      "exiting 8 [6.75366619e-09]\n",
      "x1=5.00, x2=4.00\n",
      "---------\n",
      "starting point: x1=20.00, x2=-18.00\n",
      "exiting 16 [7.33817031e-12]\n",
      "x1=11.41, x2=-0.90\n",
      "---------\n",
      "starting point: x1=5.00, x2=-10.00\n",
      "exiting 13 [4.28581787e-08]\n",
      "x1=11.41, x2=-0.90\n",
      "---------\n"
     ]
    }
   ],
   "source": [
    "import numpy as np\n",
    "from numpy.linalg import inv\n",
    "\n",
    "def hessian(x1, x2):\n",
    "    h = np.ones((2, 2))\n",
    "    h[0, 0] = 4\n",
    "    h[0, 1] = h[1, 0] = 4*(6*x2-8)\n",
    "    h[1, 1] = 2*((10*x2-3*x2**2-2)**2 + (3*x2**2+2*x2-14)**2) + 4*f1(x1,x2)*(5-3*x2) + 4*f2(x1,x2)*(3*x2+1)\n",
    "    return h\n",
    "\n",
    "def check_positive_definite(arr):\n",
    "    return np.all(np.linalg.eigvals(arr) > 0)\n",
    "\n",
    "for x1, x2 in x:\n",
    "    print(f\"starting point: x1={x1:.2f}, x2={x2:.2f}\")\n",
    "    for iter in range(max_iter):\n",
    "        g_x1, g_x2 = cal_grad(x1, x2)\n",
    "        grad_norm = (g_x1**2 + g_x2**2)**0.5\n",
    "        if grad_norm <= 1e-5:\n",
    "            print(\"exiting\", iter, grad_norm)\n",
    "            break\n",
    "        elif iter == max_iter - 1:\n",
    "            print(\"reached maximum number of iterations\", iter, grad_norm)\n",
    "        H = hessian(x1, x2)\n",
    "        if check_positive_definite(H):\n",
    "            d1, d2 = inv(H) @ np.array((g_x1, g_x2)).reshape(2,1)            \n",
    "        else:\n",
    "            print(f\"{iter} Hessian is not positive definite.\")\n",
    "            d1, d2 = g_x1, g_x2\n",
    "        t = backtracking(x1, x2, g_x1, g_x2, d1, d2, alpha, beta, s)\n",
    "        x1 -= t * d1\n",
    "        x2 -= t * d2\n",
    "    print(f\"x1={x1.item():.2f}, x2={x2.item():.2f}\\n---------\")"
   ]
  },
  {
   "cell_type": "code",
   "execution_count": 22,
   "id": "799a60a5-cf1d-42c0-9d4b-7a379590699d",
   "metadata": {},
   "outputs": [
    {
     "data": {
      "text/plain": [
       "4.000000000001535"
      ]
     },
     "execution_count": 22,
     "metadata": {},
     "output_type": "execute_result"
    }
   ],
   "source": [
    "x2.item()"
   ]
  },
  {
   "cell_type": "code",
   "execution_count": 13,
   "id": "36f15aeb-19ee-407f-8587-b024c5cb6176",
   "metadata": {},
   "outputs": [
    {
     "data": {
      "text/plain": [
       "80"
      ]
     },
     "execution_count": 13,
     "metadata": {},
     "output_type": "execute_result"
    }
   ],
   "source": [
    "g_x1"
   ]
  },
  {
   "cell_type": "code",
   "execution_count": 14,
   "id": "15a2057c-c6ae-4670-bb6a-24089a46eb9b",
   "metadata": {},
   "outputs": [
    {
     "data": {
      "text/plain": [
       "90860"
      ]
     },
     "execution_count": 14,
     "metadata": {},
     "output_type": "execute_result"
    }
   ],
   "source": [
    "g_x2"
   ]
  },
  {
   "cell_type": "code",
   "execution_count": null,
   "id": "c9753d80-28a1-4e29-8009-3a1dcc3ed6e3",
   "metadata": {},
   "outputs": [],
   "source": []
  }
 ],
 "metadata": {
  "kernelspec": {
   "display_name": "Python 3 (ipykernel)",
   "language": "python",
   "name": "python3"
  },
  "language_info": {
   "codemirror_mode": {
    "name": "ipython",
    "version": 3
   },
   "file_extension": ".py",
   "mimetype": "text/x-python",
   "name": "python",
   "nbconvert_exporter": "python",
   "pygments_lexer": "ipython3",
   "version": "3.9.12"
  }
 },
 "nbformat": 4,
 "nbformat_minor": 5
}
