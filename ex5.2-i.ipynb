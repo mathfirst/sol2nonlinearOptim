{
 "cells": [
  {
   "cell_type": "code",
   "execution_count": 10,
   "id": "eaba7607-1c36-474b-913f-d3309924ad9a",
   "metadata": {},
   "outputs": [
    {
     "data": {
      "text/plain": [
       "array([[   4.        ,   21.52332608],\n",
       "       [  21.52332608, -643.51738147]])"
      ]
     },
     "execution_count": 10,
     "metadata": {},
     "output_type": "execute_result"
    }
   ],
   "source": [
    "import numpy as np\n",
    "\n",
    "def f1(x1, x2):\n",
    "    return -13 + x1 + ((5-x2)*x2-2)*x2\n",
    "\n",
    "def f2(x1, x2):\n",
    "    return -29 + x1 + ((1+x2)*x2-14)*x2\n",
    "\n",
    "def hessian(x1, x2):\n",
    "    h = np.ones((2, 2))\n",
    "    h[0, 0] = 4\n",
    "    h[0, 1] = h[1, 0] = 4*(6*x2-8)\n",
    "    h[1, 1] = 2*((10*x2-3*x2**2-2)**2 + (3*x2**2+2*x2-14)**2) + 4*f1(x1,x2)*(5-3*x2) + 4*f2(x1,x2)*(3*x2+1)\n",
    "    return h\n",
    "\n",
    "x1 = (53+4*np.sqrt(22))/3\n",
    "x2 = (2+np.sqrt(22))/3\n",
    "hessian(x1, x2)"
   ]
  },
  {
   "cell_type": "code",
   "execution_count": 11,
   "id": "c75ee189-a090-4ec9-b84e-685edd0d7a3d",
   "metadata": {},
   "outputs": [
    {
     "data": {
      "text/plain": [
       "(23.920554346431242, 2.23013858660781)"
      ]
     },
     "execution_count": 11,
     "metadata": {},
     "output_type": "execute_result"
    }
   ],
   "source": [
    "x1, x2"
   ]
  },
  {
   "cell_type": "code",
   "execution_count": 12,
   "id": "29e2fb06-fef3-46cc-be2f-e75b7314f381",
   "metadata": {},
   "outputs": [
    {
     "data": {
      "text/plain": [
       "array([[  4.        , -53.52332608],\n",
       "       [-53.52332608, 901.88775184]])"
      ]
     },
     "execution_count": 12,
     "metadata": {},
     "output_type": "execute_result"
    }
   ],
   "source": [
    "x1 = (53-4*np.sqrt(22))/3\n",
    "x2 = (2-np.sqrt(22))/3\n",
    "hessian(x1, x2)"
   ]
  },
  {
   "cell_type": "code",
   "execution_count": 13,
   "id": "35f7ba0b-a552-424c-8f65-f17b0de3e0cb",
   "metadata": {},
   "outputs": [
    {
     "data": {
      "text/plain": [
       "48.98425367924004"
      ]
     },
     "execution_count": 13,
     "metadata": {},
     "output_type": "execute_result"
    }
   ],
   "source": [
    "f1(x1,x2)**2 + f2(x1,x2)**2"
   ]
  },
  {
   "cell_type": "code",
   "execution_count": 4,
   "id": "0e8241d7-da48-4fdb-a381-3872d9c9a2e3",
   "metadata": {},
   "outputs": [
    {
     "data": {
      "text/plain": [
       "(11.412778986902092, -0.8968052532744766)"
      ]
     },
     "execution_count": 4,
     "metadata": {},
     "output_type": "execute_result"
    }
   ],
   "source": [
    "x1, x2"
   ]
  },
  {
   "cell_type": "code",
   "execution_count": null,
   "id": "91befa56-8567-49a9-9baa-e6e04bc5e223",
   "metadata": {},
   "outputs": [],
   "source": []
  }
 ],
 "metadata": {
  "kernelspec": {
   "display_name": "Python 3 (ipykernel)",
   "language": "python",
   "name": "python3"
  },
  "language_info": {
   "codemirror_mode": {
    "name": "ipython",
    "version": 3
   },
   "file_extension": ".py",
   "mimetype": "text/x-python",
   "name": "python",
   "nbconvert_exporter": "python",
   "pygments_lexer": "ipython3",
   "version": "3.10.6"
  }
 },
 "nbformat": 4,
 "nbformat_minor": 5
}
